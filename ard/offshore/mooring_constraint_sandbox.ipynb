{
 "cells": [
  {
   "cell_type": "code",
   "execution_count": 1,
   "metadata": {},
   "outputs": [
    {
     "name": "stdout",
     "output_type": "stream",
     "text": [
      "[[[ 4586.53609952  1040.40874175]\n",
      "  [ 5178.02954479  1309.91848962]\n",
      "  [ 4057.38708866  1417.90221761]\n",
      "  [ 4524.19166509   393.40551804]]\n",
      "\n",
      " [[ 2544.71875867  5826.32231792]\n",
      "  [ 1964.46234562  6119.24294728]\n",
      "  [ 2581.17025889  5177.34520883]\n",
      "  [ 3088.52367152  6182.37879766]]\n",
      "\n",
      " [[ 4855.65077439 -2540.92248768]\n",
      "  [ 4269.32725389 -2821.50176223]\n",
      "  [ 5391.80131418 -2908.403914  ]\n",
      "  [ 4905.82375511 -1892.86178681]]\n",
      "\n",
      " [[ 2470.22988557  -393.52874157]\n",
      "  [ 1915.22423765  -731.86102023]\n",
      "  [ 3040.73705776  -705.01159259]\n",
      "  [ 2454.72836129   256.28638809]]\n",
      "\n",
      " [[ -268.36901466  1067.55610504]\n",
      "  [ -913.13117235   985.20466297]\n",
      "  [  125.33050506   550.35141812]\n",
      "  [  -17.30637669  1667.11223403]]\n",
      "\n",
      " [[  374.51328502  3781.1111181 ]\n",
      "  [   52.04008353  4345.4789364 ]\n",
      "  [   46.99301804  3219.65722443]\n",
      "  [ 1024.50675348  3778.19719348]]]\n"
     ]
    }
   ],
   "source": [
    "import numpy as np\n",
    "import matplotlib.pyplot as plt\n",
    "\n",
    "import ard\n",
    "\n",
    "import floris\n",
    "\n",
    "from pathlib import Path\n",
    "\n",
    "N_turbines = 6\n",
    "D_rotor = 130.0\n",
    "\n",
    "np.random.seed(0)\n",
    "P_turbines = 20 * D_rotor * np.random.normal(size=(N_turbines, 2))\n",
    "psi_platform = np.random.uniform(0.0, 2 * np.pi, N_turbines)\n",
    "\n",
    "\n",
    "def get_platform_points(P_turbine_vec, psi_vec):\n",
    "    P_moorings = []\n",
    "    for point_turbine, psi_platform in zip(P_turbine_vec, psi_vec):\n",
    "        L_mooring = 5 * D_rotor\n",
    "        xP0 = point_turbine[0]\n",
    "        yP0 = point_turbine[1]\n",
    "        xP1 = point_turbine[0] + np.cos(psi_platform + np.pi) * L_mooring\n",
    "        yP1 = point_turbine[1] + np.sin(psi_platform + np.pi) * L_mooring\n",
    "        xP2 = point_turbine[0] + np.cos(psi_platform + 5 / 3 * np.pi) * L_mooring\n",
    "        yP2 = point_turbine[1] + np.sin(psi_platform + 5 / 3 * np.pi) * L_mooring\n",
    "        xP3 = point_turbine[0] + np.cos(psi_platform + 7 / 3 * np.pi) * L_mooring\n",
    "        yP3 = point_turbine[1] + np.sin(psi_platform + 7 / 3 * np.pi) * L_mooring\n",
    "        P_moorings.append(\n",
    "            [\n",
    "                [xP0, yP0],\n",
    "                [xP1, yP1],\n",
    "                [xP2, yP2],\n",
    "                [xP3, yP3],\n",
    "            ]\n",
    "        )\n",
    "    return np.array(P_moorings)\n",
    "\n",
    "\n",
    "P_moorings = get_platform_points(P_turbines, psi_platform)\n",
    "print(P_moorings)"
   ]
  },
  {
   "cell_type": "code",
   "execution_count": 2,
   "metadata": {},
   "outputs": [
    {
     "ename": "AttributeError",
     "evalue": "module 'ard' has no attribute 'offshore'",
     "output_type": "error",
     "traceback": [
      "\u001b[31m---------------------------------------------------------------------------\u001b[39m",
      "\u001b[31mAttributeError\u001b[39m                            Traceback (most recent call last)",
      "\u001b[36mCell\u001b[39m\u001b[36m \u001b[39m\u001b[32mIn[2]\u001b[39m\u001b[32m, line 15\u001b[39m\n\u001b[32m     13\u001b[39m distances = np.zeros(N_turbines)\n\u001b[32m     14\u001b[39m \u001b[38;5;28;01mfor\u001b[39;00m k \u001b[38;5;129;01min\u001b[39;00m \u001b[38;5;28mrange\u001b[39m(N_turbines):\n\u001b[32m---> \u001b[39m\u001b[32m15\u001b[39m     distances[k] = \u001b[43mard\u001b[49m\u001b[43m.\u001b[49m\u001b[43moffshore\u001b[49m.mooring_constraint.distance_point_to_mooring(\n\u001b[32m     16\u001b[39m         np.array([X[i, j], Y[i, j]]), P_moorings[k, :, :]\n\u001b[32m     17\u001b[39m     )\n\u001b[32m     19\u001b[39m D[i, j] = ard.utils.smooth_min(distances)\n",
      "\u001b[31mAttributeError\u001b[39m: module 'ard' has no attribute 'offshore'"
     ]
    }
   ],
   "source": [
    "X, Y = np.meshgrid(\n",
    "    np.linspace(\n",
    "        np.min(P_moorings[:, :, 0]) - 4250.0, np.max(P_moorings[:, :, 0]) + 4250.0, 201\n",
    "    ),\n",
    "    np.linspace(\n",
    "        np.min(P_moorings[:, :, 1]) - 2250.0, np.max(P_moorings[:, :, 1]) + 2250.0, 201\n",
    "    ),\n",
    ")\n",
    "D = np.zeros_like(X)\n",
    "D_pure = np.zeros_like(X)\n",
    "for i in range(X.shape[0]):\n",
    "    for j in range(Y.shape[1]):\n",
    "        distances = np.zeros(N_turbines)\n",
    "        for k in range(N_turbines):\n",
    "            distances[k] = ard.offshore.mooring_constraint.distance_point_to_mooring(\n",
    "                np.array([X[i, j], Y[i, j]]), P_moorings[k, :, :]\n",
    "            )\n",
    "\n",
    "        D[i, j] = ard.utils.smooth_min(distances)"
   ]
  },
  {
   "cell_type": "code",
   "execution_count": null,
   "metadata": {},
   "outputs": [],
   "source": [
    "cnt = plt.contourf(X, Y, D, levels=51)\n",
    "cnt.set_edgecolor(\"face\")\n",
    "plt.colorbar(label=\"Distance to nearest mooring (m)\")\n",
    "plt.contour(X, Y, D, levels=51, colors=\"black\", linewidths=0)\n",
    "plt.contour(X, Y, D, levels=[51.0], colors=\"w\", alpha=0.5)\n",
    "plt.axis(\"equal\")\n",
    "\n",
    "plt.ylim([-4000, 8000])\n",
    "plt.xlim([-4000, 8000])\n",
    "\n",
    "plt.xlabel(\"Easting (m)\")\n",
    "plt.ylabel(\"Northing (m)\")\n",
    "\n",
    "plt.savefig(\"mooring_distance.pdf\", transparent=True)"
   ]
  },
  {
   "cell_type": "code",
   "execution_count": null,
   "metadata": {},
   "outputs": [],
   "source": [
    "for i_turb in range(P_moorings.shape[0]):\n",
    "    plt.text(P_turbines[i_turb, 0], P_turbines[i_turb, 1], i_turb)\n",
    "    plt.plot(P_moorings[i_turb, :, 0], P_moorings[i_turb, :, 1], \".\")\n",
    "plt.axis(\"square\");"
   ]
  },
  {
   "cell_type": "code",
   "execution_count": null,
   "metadata": {},
   "outputs": [],
   "source": [
    "for i in [\n",
    "    2,\n",
    "]:  # range(P_moorings.shape[0]):\n",
    "    for j in range(P_moorings.shape[0]):\n",
    "        if i == j:\n",
    "            continue\n",
    "        print(\n",
    "            i,\n",
    "            j,\n",
    "            distance_mooring_to_mooring(P_moorings[i, :, :], P_moorings[j, :, :]),\n",
    "        )"
   ]
  },
  {
   "cell_type": "code",
   "execution_count": null,
   "metadata": {},
   "outputs": [],
   "source": [
    "# test timing\n",
    "def calc_moorings():\n",
    "    for i in range(0, P_moorings.shape[0] - 1):\n",
    "        for j in range(P_moorings.shape[0]):\n",
    "            if i == j:\n",
    "                continue\n",
    "            distance_mooring_to_mooring(P_moorings[i, :, :], P_moorings[j, :, :])\n",
    "\n",
    "\n",
    "from timeit import timeit\n",
    "\n",
    "calc_moorings()\n",
    "total_time = timeit(calc_moorings, number=100)\n",
    "time_per_run = total_time / 100\n",
    "\n",
    "print(\"Total: \", total_time)\n",
    "print(\"Per run: \", time_per_run)\n",
    "\n",
    "# calc_mooring_distances(P_moorings)\n",
    "# total_time = timeit(calc_mooring_distances, number=100)\n",
    "# time_per_run = total_time/100\n",
    "\n",
    "# print(\"Total: \", total_time)\n",
    "# print(\"Per run: \", time_per_run)"
   ]
  },
  {
   "cell_type": "markdown",
   "metadata": {},
   "source": [
    "## Test Offshore Floating Layout Optimization"
   ]
  },
  {
   "cell_type": "code",
   "execution_count": null,
   "metadata": {},
   "outputs": [],
   "source": [
    "# create the wind query\n",
    "wind_rose_wrg = floris.wind_data.WindRoseWRG(\n",
    "    Path(ard.__file__).parents[1] / \"examples\" / \"data\" / \"wrg_example.wrg\",\n",
    ")\n",
    "wind_rose_wrg.set_wd_step(90.0)\n",
    "wind_rose_wrg.set_wind_speeds(np.array([5.0, 10.0, 15.0, 20.0]))\n",
    "wind_rose = wind_rose_wrg.get_wind_rose_at_point(0.0, 0.0)\n",
    "wind_query = ard.wind_query.WindQuery.from_FLORIS_WindData(wind_rose)\n",
    "\n",
    "# specify the configuration/specification files to use\n",
    "filename_turbine_spec = (\n",
    "    Path(ard.__file__).parents[1]\n",
    "    / \"examples\"\n",
    "    / \"data\"\n",
    "    / \"turbine_spec_IEA-22-284-RWT.yaml\"\n",
    ")  # toolset generalized turbine specification\n",
    "data_turbine_spec = ard.utils.load_turbine_spec(filename_turbine_spec)\n",
    "\n",
    "# set up the modeling options\n",
    "modeling_options = {\n",
    "    \"farm\": {\"N_turbines\": 25},\n",
    "    \"site_depth\": 50.0,\n",
    "    \"turbine\": data_turbine_spec,\n",
    "    \"offshore\": True,\n",
    "    \"floating\": True,\n",
    "}\n",
    "\n",
    "# create the OM problem\n",
    "prob = ard.glue.prototype.create_setup_OM_problem(\n",
    "    modeling_options=modeling_options,\n",
    "    wind_rose=wind_rose,\n",
    ")"
   ]
  },
  {
   "cell_type": "markdown",
   "metadata": {},
   "source": [
    "# Smooth Norm"
   ]
  },
  {
   "cell_type": "code",
   "execution_count": null,
   "metadata": {},
   "outputs": [],
   "source": [
    "from jax import grad\n",
    "from jax import numpy as jnp\n",
    "\n",
    "\n",
    "def smooth_norm(vec: np.ndarray, buf=1e-12):\n",
    "    return jnp.sqrt(buf**2 + jnp.sum(vec**2))  # - np.sqrt(buf**2)\n",
    "\n",
    "\n",
    "smooth_norm_grad = grad(smooth_norm, [0])\n",
    "\n",
    "\n",
    "def norm(vec: np.ndarray):\n",
    "    return jnp.linalg.norm(vec)\n",
    "\n",
    "\n",
    "norm_grad = grad(norm, [0])"
   ]
  },
  {
   "cell_type": "code",
   "execution_count": null,
   "metadata": {},
   "outputs": [],
   "source": [
    "base_vec = np.array([0, 0])\n",
    "dif_vals = np.arange(-1e-10, 1e-10, 1e-13)\n",
    "result = np.zeros_like(dif_vals)\n",
    "result_smooth = np.zeros_like(dif_vals)\n",
    "result_grad = np.zeros_like(dif_vals)\n",
    "result_smooth_grad = np.zeros_like(dif_vals)\n",
    "for i, v in enumerate(dif_vals):\n",
    "    result_smooth[i] = smooth_norm(np.array([v, 0.0]))\n",
    "    result[i] = norm(np.array([v, 0.0]))\n",
    "    result_smooth_grad[i] = smooth_norm_grad(jnp.array([v, 0.0]))[0][0]\n",
    "    result_grad[i] = norm_grad(jnp.array([v, 0.0]))[0][0]"
   ]
  },
  {
   "cell_type": "code",
   "execution_count": null,
   "metadata": {},
   "outputs": [],
   "source": [
    "fig, ax = plt.subplots(3, 1, figsize=(10, 6), sharex=True)\n",
    "ax[0].plot(dif_vals * 1e9, result, label=\"norm\")\n",
    "ax[0].plot(dif_vals * 1e9, result_smooth, \"--\", label=\"smooth norm\")\n",
    "ax[0].set(ylabel=\"Result\", yscale=\"log\", xscale=\"linear\")\n",
    "ax[0].legend()\n",
    "\n",
    "ax[1].plot(dif_vals * 1e9, result_grad, label=\"norm grad\")\n",
    "ax[1].plot(dif_vals * 1e9, result_smooth_grad, \"--\", label=\"smooth norm grad\")\n",
    "ax[1].legend()\n",
    "ax[1].set(ylabel=\"Gradient\")\n",
    "\n",
    "ax[2].plot(dif_vals * 1e9, result_smooth - result, label=\"error\")\n",
    "ax[2].plot(\n",
    "    dif_vals * 1e9, abs(result_smooth_grad - result_grad), \"--\", label=\"grad error\"\n",
    ")\n",
    "ax[2].legend()\n",
    "ax[2].set(ylabel=\"Error\", yscale=\"log\", xlabel=\"Difference $\\\\times 10^9$ \")\n",
    "plt.savefig(\"smooth_norm.pdf\", transparent=True)"
   ]
  },
  {
   "cell_type": "code",
   "execution_count": null,
   "metadata": {},
   "outputs": [],
   "source": []
  },
  {
   "cell_type": "code",
   "execution_count": null,
   "metadata": {},
   "outputs": [],
   "source": []
  }
 ],
 "metadata": {
  "kernelspec": {
   "display_name": "ard",
   "language": "python",
   "name": "python3"
  },
  "language_info": {
   "codemirror_mode": {
    "name": "ipython",
    "version": 3
   },
   "file_extension": ".py",
   "mimetype": "text/x-python",
   "name": "python",
   "nbconvert_exporter": "python",
   "pygments_lexer": "ipython3",
   "version": "3.12.10"
  }
 },
 "nbformat": 4,
 "nbformat_minor": 2
}
