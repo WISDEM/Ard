{
 "cells": [
  {
   "cell_type": "code",
   "execution_count": 1,
   "metadata": {},
   "outputs": [],
   "source": [
    "import numpy as np\n",
    "import matplotlib.pyplot as plt\n",
    "from ard.utils import distance_point_to_lineseg, smooth_max, distance_point_to_lineseg_nd\n",
    "\n",
    "N_turbines = 6\n",
    "D_rotor = 130.0\n",
    "\n",
    "np.random.seed(0)\n",
    "P_turbines = 20 * D_rotor * np.random.normal(size=(N_turbines, 2))\n",
    "psi_platform = np.random.uniform(0.0, 2 * np.pi, N_turbines)\n",
    "\n",
    "\n",
    "def get_platform_points(P_turbine_vec, psi_vec):\n",
    "    P_moorings = []\n",
    "    for point_turbine, psi_platform in zip(P_turbine_vec, psi_vec):\n",
    "        L_mooring = 5 * D_rotor\n",
    "        xP0 = point_turbine[0]\n",
    "        yP0 = point_turbine[1]\n",
    "        xP1 = point_turbine[0] + np.cos(psi_platform + np.pi) * L_mooring\n",
    "        yP1 = point_turbine[1] + np.sin(psi_platform + np.pi) * L_mooring\n",
    "        xP2 = point_turbine[0] + np.cos(psi_platform + 5 / 3 * np.pi) * L_mooring\n",
    "        yP2 = point_turbine[1] + np.sin(psi_platform + 5 / 3 * np.pi) * L_mooring\n",
    "        xP3 = point_turbine[0] + np.cos(psi_platform + 7 / 3 * np.pi) * L_mooring\n",
    "        yP3 = point_turbine[1] + np.sin(psi_platform + 7 / 3 * np.pi) * L_mooring\n",
    "        P_moorings.append(\n",
    "            [\n",
    "                [xP0, yP0],\n",
    "                [xP1, yP1],\n",
    "                [xP2, yP2],\n",
    "                [xP3, yP3],\n",
    "            ]\n",
    "        )\n",
    "    return np.array(P_moorings)\n",
    "\n",
    "\n",
    "P_moorings = get_platform_points(P_turbines, psi_platform)"
   ]
  },
  {
   "cell_type": "code",
   "execution_count": null,
   "metadata": {},
   "outputs": [],
   "source": []
  },
  {
   "cell_type": "code",
   "execution_count": 2,
   "metadata": {},
   "outputs": [],
   "source": [
    "\n",
    "\n",
    "def distance_lineseg_to_lineseg(\n",
    "    x_C, y_C, x_D, y_D, x_A, y_A, x_B, y_B, k_logistic=100.0, D_ref=1000.0\n",
    "):\n",
    "    dx_C = distance_point_to_lineseg_nd(\n",
    "        np.array([x_C, y_C]), np.array([x_A, y_A]), np.array([x_B, y_B])\n",
    "    )\n",
    "    dx_D = distance_point_to_lineseg_nd(\n",
    "        np.array([x_D, y_D]), np.array([x_A, y_A]), np.array([x_B, y_B])\n",
    "    )\n",
    "\n",
    "    alpha_smooth_max = -100 / D_ref\n",
    "    distances = np.array([dx_C, dx_D])\n",
    "    return smooth_max(distances, alpha_smooth_max)\n",
    "\n",
    "\n",
    "def distance_point_to_mooring(x_C, y_C, P_mooring, D_ref=None):\n",
    "    N_moorings = P_mooring.shape[0] - 1\n",
    "    distance_moorings = []\n",
    "    for i in range(1, N_moorings + 1):\n",
    "        distance_moorings.append(\n",
    "            distance_point_to_lineseg_nd(\n",
    "                np.array([x_C, y_C]),\n",
    "                np.array(P_mooring[0, 0], P_mooring[0, 1]),\n",
    "                np.array(P_mooring[i, 0], P_mooring[i, 1])\n",
    "            )\n",
    "        )\n",
    "    if D_ref is None:\n",
    "        return np.min(distance_moorings)\n",
    "    else:\n",
    "        alpha_smooth_max = -100 / D_ref\n",
    "        return smooth_max(np.array(distance_moorings), alpha_smooth_max)\n",
    "\n",
    "\n",
    "def distance_mooring_to_mooring(P_mooring_A, P_mooring_B, D_ref=None):\n",
    "    N_moorings_A = P_mooring_A.shape[0] - 1\n",
    "    N_moorings_B = P_mooring_B.shape[0] - 1\n",
    "\n",
    "    distance_moorings = []\n",
    "\n",
    "    x_D = P_mooring_A[0, 0]\n",
    "    y_D = P_mooring_A[0, 1]\n",
    "    for idx_mooring in range(1, N_moorings_A + 1):\n",
    "        x_C = P_mooring_A[idx_mooring, 0]\n",
    "        y_C = P_mooring_A[idx_mooring, 1]\n",
    "\n",
    "        for i in range(1, N_moorings_B + 1):\n",
    "            distance_moorings.append(\n",
    "                distance_lineseg_to_lineseg(\n",
    "                    x_C,\n",
    "                    y_C,\n",
    "                    x_D,\n",
    "                    y_D,\n",
    "                    P_mooring_B[0, 0],\n",
    "                    P_mooring_B[0, 1],\n",
    "                    P_mooring_B[i, 0],\n",
    "                    P_mooring_B[i, 1],\n",
    "                )\n",
    "            )\n",
    "    if D_ref is None:\n",
    "        return np.min(distance_moorings)\n",
    "    else:\n",
    "        alpha_smooth_max = -100 / D_ref\n",
    "        return smooth_max(np.array(distance_moorings), alpha_smooth_max)"
   ]
  },
  {
   "cell_type": "code",
   "execution_count": 3,
   "metadata": {},
   "outputs": [
    {
     "ename": "ValueError",
     "evalue": "The truth value of an array with more than one element is ambiguous. Use a.any() or a.all()",
     "output_type": "error",
     "traceback": [
      "\u001b[0;31m---------------------------------------------------------------------------\u001b[0m",
      "\u001b[0;31mValueError\u001b[0m                                Traceback (most recent call last)",
      "Cell \u001b[0;32mIn[3], line 22\u001b[0m\n\u001b[1;32m     18\u001b[0m \u001b[38;5;28;01mfor\u001b[39;00m i \u001b[38;5;129;01min\u001b[39;00m \u001b[38;5;28mrange\u001b[39m(X\u001b[38;5;241m.\u001b[39mshape[\u001b[38;5;241m0\u001b[39m]):\n\u001b[1;32m     19\u001b[0m     \u001b[38;5;28;01mfor\u001b[39;00m j \u001b[38;5;129;01min\u001b[39;00m \u001b[38;5;28mrange\u001b[39m(Y\u001b[38;5;241m.\u001b[39mshape[\u001b[38;5;241m1\u001b[39m]):\n\u001b[1;32m     20\u001b[0m         \u001b[38;5;66;03m# D[i,j] = distance_point_to_lineseg(X[i,j], Y[i,j], xA, yA, xB, yB)\u001b[39;00m\n\u001b[1;32m     21\u001b[0m         \u001b[38;5;66;03m# D[i,j] = distance_point_to_mooring(X[i,j], Y[i,j], P_moorings[0,:,:], D_ref=None)\u001b[39;00m\n\u001b[0;32m---> 22\u001b[0m         D[i, j] \u001b[38;5;241m=\u001b[39m \u001b[43mdistance_point_to_mooring\u001b[49m\u001b[43m(\u001b[49m\n\u001b[1;32m     23\u001b[0m \u001b[43m            \u001b[49m\u001b[43mX\u001b[49m\u001b[43m[\u001b[49m\u001b[43mi\u001b[49m\u001b[43m,\u001b[49m\u001b[43m \u001b[49m\u001b[43mj\u001b[49m\u001b[43m]\u001b[49m\u001b[43m,\u001b[49m\u001b[43m \u001b[49m\u001b[43mY\u001b[49m\u001b[43m[\u001b[49m\u001b[43mi\u001b[49m\u001b[43m,\u001b[49m\u001b[43m \u001b[49m\u001b[43mj\u001b[49m\u001b[43m]\u001b[49m\u001b[43m,\u001b[49m\u001b[43m \u001b[49m\u001b[43mP_moorings\u001b[49m\u001b[43m[\u001b[49m\u001b[38;5;241;43m0\u001b[39;49m\u001b[43m,\u001b[49m\u001b[43m \u001b[49m\u001b[43m:\u001b[49m\u001b[43m,\u001b[49m\u001b[43m \u001b[49m\u001b[43m:\u001b[49m\u001b[43m]\u001b[49m\u001b[43m,\u001b[49m\u001b[43m \u001b[49m\u001b[43mD_ref\u001b[49m\u001b[38;5;241;43m=\u001b[39;49m\u001b[38;5;241;43m1000.0\u001b[39;49m\n\u001b[1;32m     24\u001b[0m \u001b[43m        \u001b[49m\u001b[43m)\u001b[49m\n\u001b[1;32m     25\u001b[0m         D_pure[i, j] \u001b[38;5;241m=\u001b[39m distance_point_to_mooring(\n\u001b[1;32m     26\u001b[0m             X[i, j], Y[i, j], P_moorings[\u001b[38;5;241m0\u001b[39m, :, :], D_ref\u001b[38;5;241m=\u001b[39m\u001b[38;5;28;01mNone\u001b[39;00m\n\u001b[1;32m     27\u001b[0m         )\n\u001b[1;32m     28\u001b[0m plt\u001b[38;5;241m.\u001b[39mcontourf(X, Y, D, levels\u001b[38;5;241m=\u001b[39m\u001b[38;5;241m51\u001b[39m)\n",
      "Cell \u001b[0;32mIn[2], line 21\u001b[0m, in \u001b[0;36mdistance_point_to_mooring\u001b[0;34m(x_C, y_C, P_mooring, D_ref)\u001b[0m\n\u001b[1;32m     18\u001b[0m distance_moorings \u001b[38;5;241m=\u001b[39m []\n\u001b[1;32m     19\u001b[0m \u001b[38;5;28;01mfor\u001b[39;00m i \u001b[38;5;129;01min\u001b[39;00m \u001b[38;5;28mrange\u001b[39m(\u001b[38;5;241m1\u001b[39m, N_moorings \u001b[38;5;241m+\u001b[39m \u001b[38;5;241m1\u001b[39m):\n\u001b[1;32m     20\u001b[0m     distance_moorings\u001b[38;5;241m.\u001b[39mappend(\n\u001b[0;32m---> 21\u001b[0m         \u001b[43mdistance_point_to_lineseg_nd\u001b[49m\u001b[43m(\u001b[49m\n\u001b[1;32m     22\u001b[0m \u001b[43m            \u001b[49m\u001b[43mnp\u001b[49m\u001b[38;5;241;43m.\u001b[39;49m\u001b[43marray\u001b[49m\u001b[43m(\u001b[49m\u001b[43m[\u001b[49m\u001b[43mx_C\u001b[49m\u001b[43m,\u001b[49m\u001b[43m \u001b[49m\u001b[43my_C\u001b[49m\u001b[43m]\u001b[49m\u001b[43m)\u001b[49m\u001b[43m,\u001b[49m\n\u001b[1;32m     23\u001b[0m \u001b[43m            \u001b[49m\u001b[43mnp\u001b[49m\u001b[38;5;241;43m.\u001b[39;49m\u001b[43marray\u001b[49m\u001b[43m(\u001b[49m\u001b[43mP_mooring\u001b[49m\u001b[43m[\u001b[49m\u001b[38;5;241;43m0\u001b[39;49m\u001b[43m,\u001b[49m\u001b[43m \u001b[49m\u001b[38;5;241;43m0\u001b[39;49m\u001b[43m]\u001b[49m\u001b[43m,\u001b[49m\u001b[43m \u001b[49m\u001b[43mP_mooring\u001b[49m\u001b[43m[\u001b[49m\u001b[38;5;241;43m0\u001b[39;49m\u001b[43m,\u001b[49m\u001b[43m \u001b[49m\u001b[38;5;241;43m1\u001b[39;49m\u001b[43m]\u001b[49m\u001b[43m)\u001b[49m\u001b[43m,\u001b[49m\n\u001b[1;32m     24\u001b[0m \u001b[43m            \u001b[49m\u001b[43mnp\u001b[49m\u001b[38;5;241;43m.\u001b[39;49m\u001b[43marray\u001b[49m\u001b[43m(\u001b[49m\u001b[43mP_mooring\u001b[49m\u001b[43m[\u001b[49m\u001b[43mi\u001b[49m\u001b[43m,\u001b[49m\u001b[43m \u001b[49m\u001b[38;5;241;43m0\u001b[39;49m\u001b[43m]\u001b[49m\u001b[43m,\u001b[49m\u001b[43m \u001b[49m\u001b[43mP_mooring\u001b[49m\u001b[43m[\u001b[49m\u001b[43mi\u001b[49m\u001b[43m,\u001b[49m\u001b[43m \u001b[49m\u001b[38;5;241;43m1\u001b[39;49m\u001b[43m]\u001b[49m\u001b[43m)\u001b[49m\u001b[43m,\u001b[49m\n\u001b[1;32m     25\u001b[0m \u001b[43m        \u001b[49m\u001b[43m)\u001b[49m\n\u001b[1;32m     26\u001b[0m     )\n\u001b[1;32m     27\u001b[0m \u001b[38;5;28;01mif\u001b[39;00m D_ref \u001b[38;5;129;01mis\u001b[39;00m \u001b[38;5;28;01mNone\u001b[39;00m:\n\u001b[1;32m     28\u001b[0m     \u001b[38;5;28;01mreturn\u001b[39;00m np\u001b[38;5;241m.\u001b[39mmin(distance_moorings)\n",
      "File \u001b[0;32m~/Documents/programs/Ard/ard/utils.py:69\u001b[0m, in \u001b[0;36mdistance_point_to_lineseg_nd\u001b[0;34m(point, segment_start, segment_end)\u001b[0m\n\u001b[1;32m     66\u001b[0m projection \u001b[38;5;241m=\u001b[39m jnp\u001b[38;5;241m.\u001b[39mdot(start_to_point_vector, segment_vector) \u001b[38;5;241m/\u001b[39m jnp\u001b[38;5;241m.\u001b[39mdot(segment_vector, segment_vector)\n\u001b[1;32m     68\u001b[0m \u001b[38;5;66;03m# if projection is outside the segment, then the unit projection will be negative and the start is the closest point\u001b[39;00m\n\u001b[0;32m---> 69\u001b[0m \u001b[38;5;28;01mif\u001b[39;00m projection \u001b[38;5;241m<\u001b[39m \u001b[38;5;241m0\u001b[39m:\n\u001b[1;32m     70\u001b[0m     closest_point \u001b[38;5;241m=\u001b[39m segment_start\n\u001b[1;32m     71\u001b[0m \u001b[38;5;66;03m# if the project is greater than 1, then the end point is the clost point\u001b[39;00m\n",
      "File \u001b[0;32m/opt/anaconda3/envs/ard/lib/python3.12/site-packages/jax/_src/array.py:293\u001b[0m, in \u001b[0;36mArrayImpl.__bool__\u001b[0;34m(self)\u001b[0m\n\u001b[1;32m    292\u001b[0m \u001b[38;5;28;01mdef\u001b[39;00m\u001b[38;5;250m \u001b[39m\u001b[38;5;21m__bool__\u001b[39m(\u001b[38;5;28mself\u001b[39m):\n\u001b[0;32m--> 293\u001b[0m   \u001b[43mcore\u001b[49m\u001b[38;5;241;43m.\u001b[39;49m\u001b[43mcheck_bool_conversion\u001b[49m\u001b[43m(\u001b[49m\u001b[38;5;28;43mself\u001b[39;49m\u001b[43m)\u001b[49m\n\u001b[1;32m    294\u001b[0m   \u001b[38;5;28;01mreturn\u001b[39;00m \u001b[38;5;28mbool\u001b[39m(\u001b[38;5;28mself\u001b[39m\u001b[38;5;241m.\u001b[39m_value)\n",
      "File \u001b[0;32m/opt/anaconda3/envs/ard/lib/python3.12/site-packages/jax/_src/core.py:676\u001b[0m, in \u001b[0;36mcheck_bool_conversion\u001b[0;34m(arr)\u001b[0m\n\u001b[1;32m    673\u001b[0m   \u001b[38;5;28;01mraise\u001b[39;00m \u001b[38;5;167;01mValueError\u001b[39;00m(\u001b[38;5;124m\"\u001b[39m\u001b[38;5;124mThe truth value of an empty array is ambiguous. Use\u001b[39m\u001b[38;5;124m\"\u001b[39m\n\u001b[1;32m    674\u001b[0m                    \u001b[38;5;124m\"\u001b[39m\u001b[38;5;124m `array.size > 0` to check that an array is not empty.\u001b[39m\u001b[38;5;124m\"\u001b[39m)\n\u001b[1;32m    675\u001b[0m \u001b[38;5;28;01mif\u001b[39;00m arr\u001b[38;5;241m.\u001b[39msize \u001b[38;5;241m>\u001b[39m \u001b[38;5;241m1\u001b[39m:\n\u001b[0;32m--> 676\u001b[0m   \u001b[38;5;28;01mraise\u001b[39;00m \u001b[38;5;167;01mValueError\u001b[39;00m(\u001b[38;5;124m\"\u001b[39m\u001b[38;5;124mThe truth value of an array with more than one element\u001b[39m\u001b[38;5;124m\"\u001b[39m\n\u001b[1;32m    677\u001b[0m                    \u001b[38;5;124m\"\u001b[39m\u001b[38;5;124m is ambiguous. Use a.any() or a.all()\u001b[39m\u001b[38;5;124m\"\u001b[39m)\n",
      "\u001b[0;31mValueError\u001b[0m: The truth value of an array with more than one element is ambiguous. Use a.any() or a.all()"
     ]
    }
   ],
   "source": [
    "xA = -1.0\n",
    "yA = 0.0\n",
    "xB = 1.0\n",
    "yB = 1.0\n",
    "\n",
    "X, Y = np.meshgrid(\n",
    "    # np.linspace(-3.0, 3.0, 201),\n",
    "    # np.linspace(-3.0, 3.0, 201),\n",
    "    np.linspace(\n",
    "        np.min(P_moorings[:, :, 0]) - 1250.0, np.max(P_moorings[:, :, 0]) + 1250.0, 201\n",
    "    ),\n",
    "    np.linspace(\n",
    "        np.min(P_moorings[:, :, 1]) - 1250.0, np.max(P_moorings[:, :, 1]) + 1250.0, 201\n",
    "    ),\n",
    ")\n",
    "D = np.zeros_like(X)\n",
    "D_pure = np.zeros_like(X)\n",
    "for i in range(X.shape[0]):\n",
    "    for j in range(Y.shape[1]):\n",
    "        # D[i,j] = distance_point_to_lineseg(X[i,j], Y[i,j], xA, yA, xB, yB)\n",
    "        # D[i,j] = distance_point_to_mooring(X[i,j], Y[i,j], P_moorings[0,:,:], D_ref=None)\n",
    "        D[i, j] = distance_point_to_mooring(\n",
    "            X[i, j], Y[i, j], P_moorings[0, :, :], D_ref=1000.0\n",
    "        )\n",
    "        D_pure[i, j] = distance_point_to_mooring(\n",
    "            X[i, j], Y[i, j], P_moorings[0, :, :], D_ref=None\n",
    "        )\n",
    "plt.contourf(X, Y, D, levels=51)\n",
    "plt.colorbar()\n",
    "plt.contour(X, Y, D, levels=[50.0], colors=\"w\", alpha=0.5)\n",
    "# plt.plot([xA, xB], [yA, yB], \".-k\")\n",
    "plt.axis(\"square\");"
   ]
  },
  {
   "cell_type": "code",
   "execution_count": null,
   "metadata": {},
   "outputs": [],
   "source": []
  },
  {
   "cell_type": "code",
   "execution_count": 4,
   "metadata": {},
   "outputs": [
    {
     "data": {
      "image/png": "[encoded data removed]",
      "text/plain": [
       "<Figure size 640x480 with 1 Axes>"
      ]
     },
     "metadata": {},
     "output_type": "display_data"
    }
   ],
   "source": [
    "for i_turb in range(P_moorings.shape[0]):\n",
    "    plt.text(P_turbines[i_turb, 0], P_turbines[i_turb, 1], i_turb)\n",
    "    plt.plot(P_moorings[i_turb, :, 0], P_moorings[i_turb, :, 1], \".\")\n",
    "plt.axis(\"square\");"
   ]
  },
  {
   "cell_type": "code",
   "execution_count": 5,
   "metadata": {},
   "outputs": [
    {
     "name": "stdout",
     "output_type": "stream",
     "text": [
      "2 0 2794.0133230417573\n",
      "2 1 987.2088748858096\n",
      "2 3 6071.054429117867\n",
      "2 4 1309.7833739319856\n",
      "2 5 2130.9745634783894\n"
     ]
    }
   ],
   "source": [
    "for i in [\n",
    "    2,\n",
    "]:  # range(P_moorings.shape[0]):\n",
    "    for j in range(P_moorings.shape[0]):\n",
    "        if i == j:\n",
    "            continue\n",
    "        print(\n",
    "            i,\n",
    "            j,\n",
    "            distance_mooring_to_mooring(\n",
    "                P_moorings[i, :, :], P_moorings[j, :, :], D_ref=1000.0\n",
    "            ),\n",
    "        )"
   ]
  },
  {
   "cell_type": "code",
   "execution_count": null,
   "metadata": {},
   "outputs": [],
   "source": []
  },
  {
   "cell_type": "code",
   "execution_count": null,
   "metadata": {},
   "outputs": [],
   "source": []
  },
  {
   "cell_type": "code",
   "execution_count": null,
   "metadata": {},
   "outputs": [],
   "source": []
  },
  {
   "cell_type": "code",
   "execution_count": null,
   "metadata": {},
   "outputs": [],
   "source": []
  },
  {
   "cell_type": "code",
   "execution_count": null,
   "metadata": {},
   "outputs": [],
   "source": []
  }
 ],
 "metadata": {
  "kernelspec": {
   "display_name": "ard",
   "language": "python",
   "name": "python3"
  },
  "language_info": {
   "codemirror_mode": {
    "name": "ipython",
    "version": 3
   },
   "file_extension": ".py",
   "mimetype": "text/x-python",
   "name": "python",
   "nbconvert_exporter": "python",
   "pygments_lexer": "ipython3",
   "version": "3.12.8"
  }
 },
 "nbformat": 4,
 "nbformat_minor": 2
}
