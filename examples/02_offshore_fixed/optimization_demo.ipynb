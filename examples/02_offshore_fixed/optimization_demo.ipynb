{
 "cells": [
  {
   "cell_type": "markdown",
   "id": "ad55500a",
   "metadata": {},
   "source": [
    "# 02: Monopile \n",
    "\n",
    "In this example, we show `Ard` handling gradient computation.\n",
    "\n",
    "As in Example 01, we start by loading what we need to run the problem."
   ]
  },
  {
   "cell_type": "code",
   "execution_count": 1,
   "id": "eafa9eb0",
   "metadata": {},
   "outputs": [
    {
     "name": "stderr",
     "output_type": "stream",
     "text": [
      "RuntimeWarning: <frozen importlib._bootstrap>:488\n",
      "numpy.ndarray size changed, may indicate binary incompatibility. Expected 16 from C header, got 96 from PyObject"
     ]
    }
   ],
   "source": [
    "from pathlib import Path  # optional, for nice path specifications\n",
    "\n",
    "import pprint as pp  # optional, for nice printing\n",
    "import numpy as np  # numerics library\n",
    "import matplotlib.pyplot as plt  # plotting capabilities\n",
    "\n",
    "import ard  # technically we only really need this\n",
    "from ard.utils.io import load_yaml  # we grab a yaml loader here\n",
    "from ard.api import set_up_ard_model  # the secret sauce\n",
    "from ard.viz.layout import plot_layout  # a plotting tool!\n",
    "\n",
    "import openmdao.api as om  # for N2 diagrams from the OpenMDAO backend\n",
    "\n",
    "# import optiwindnet.plotting\n",
    "\n",
    "%matplotlib inline"
   ]
  },
  {
   "cell_type": "markdown",
   "id": "111fe455",
   "metadata": {},
   "source": [
    "Now, we can set up different case.\n",
    "As before, we do it a little verbosely so that our documentation system can grab it, you can generally just use relative paths.\n",
    "We grab the file at `inputs/ard_system.yaml`, which describes the `Ard` system for this problem.\n",
    "It references, in turn, the `inputs/windio.yaml` file, which is where we define the plant we want to optimize, and an initial setup for it."
   ]
  },
  {
   "cell_type": "code",
   "execution_count": 2,
   "id": "22d078e2",
   "metadata": {},
   "outputs": [
    {
     "name": "stdout",
     "output_type": "stream",
     "text": [
      "Adding top_level\n",
      "Adding layout2aep\n",
      "Adding layout to layout2aep\n",
      "Adding aepFLORIS to layout2aep\n",
      "\tActivating approximate totals on layout2aep\n",
      "Adding landuse\n",
      "Adding collection\n",
      "Adding spacing_constraint\n",
      "Adding tcc\n",
      "Adding orbit\n",
      "Adding opex\n",
      "Adding financese\n"
     ]
    }
   ],
   "source": [
    "# load input\n",
    "path_inputs = Path.cwd().absolute() / \"inputs\"\n",
    "input_dict = load_yaml(path_inputs / \"ard_system.yaml\")\n",
    "\n",
    "# set up system\n",
    "prob = set_up_ard_model(input_dict=input_dict, root_data_path=path_inputs)"
   ]
  },
  {
   "cell_type": "markdown",
   "id": "6b598f33",
   "metadata": {},
   "source": [
    "Here, you should see each of the groups or components described as they are added to the `Ard` model and, occasionally, some options being turned on on them.\n",
    "Comparing to Example 01, you can notice that the balance-of-station cost model (BOS) is different: before it was `landbosse` and now it is `orbit`, and this is so we can generate an estimate for offshore BOS costs.\n",
    "\n",
    "As before, we leave in some turned-off-by-default code here in case you want to see what the connections of the system look like with an [N2 diagram vizualization](https://openmdao.org/newdocs/versions/latest/features/model_visualization/n2_basics/n2_basics.html)."
   ]
  },
  {
   "cell_type": "code",
   "execution_count": 3,
   "id": "a35ba837",
   "metadata": {},
   "outputs": [],
   "source": [
    "if False:\n",
    "    # visualize model\n",
    "    om.n2(prob)"
   ]
  },
  {
   "cell_type": "markdown",
   "id": "3c0228e5",
   "metadata": {},
   "source": [
    "Here's the one-shot analysis."
   ]
  },
  {
   "cell_type": "code",
   "execution_count": 4,
   "id": "7c99e6ce",
   "metadata": {},
   "outputs": [
    {
     "name": "stderr",
     "output_type": "stream",
     "text": [
      "/Users/cfrontin/miniforge3/envs/ard-dev-env/lib/python3.12/site-packages/openmdao/recorders/sqlite_recorder.py:231: UserWarning:The existing case recorder file, ard_prob_out/problem_out/opt_results.sql, is being overwritten.\n",
      "RuntimeWarning: /Users/cfrontin/miniforge3/envs/ard-dev-env/lib/python3.12/site-packages/floris/core/wake_deflection/gauss.py:328\n",
      "invalid value encountered in divideRuntimeWarning: /Users/cfrontin/miniforge3/envs/ard-dev-env/lib/python3.12/site-packages/floris/core/wake_deflection/gauss.py:163\n",
      "invalid value encountered in divideRuntimeWarning: /Users/cfrontin/miniforge3/envs/ard-dev-env/lib/python3.12/site-packages/floris/core/wake_velocity/gauss.py:80\n",
      "invalid value encountered in divide"
     ]
    },
    {
     "name": "stdout",
     "output_type": "stream",
     "text": [
      "ORBIT library intialized at '/Users/cfrontin/miniforge3/envs/ard-dev-env/lib/python3.12/site-packages/library'\n",
      "\n",
      "\n",
      "RESULTS:\n",
      "\n",
      "{'AEP_val': 2491.169182284602,\n",
      " 'BOS_val': 1269.2092798089284,\n",
      " 'CapEx_val': 768.4437570425,\n",
      " 'LCOE_val': 85.63207159146933,\n",
      " 'OpEx_val': 60.50000000000001,\n",
      " 'area_tight': 63.234304,\n",
      " 'coll_length': 47.761107521256534,\n",
      " 'turbine_spacing': 1.988}\n",
      "\n",
      "\n",
      "\n"
     ]
    }
   ],
   "source": [
    "# run the model\n",
    "prob.run_model()\n",
    "\n",
    "# collapse the test result data\n",
    "test_data = {\n",
    "    \"AEP_val\": float(prob.get_val(\"AEP_farm\", units=\"GW*h\")[0]),\n",
    "    \"CapEx_val\": float(prob.get_val(\"tcc.tcc\", units=\"MUSD\")[0]),\n",
    "    \"BOS_val\": float(prob.get_val(\"orbit.total_capex\", units=\"MUSD\")[0]),\n",
    "    \"OpEx_val\": float(prob.get_val(\"opex.opex\", units=\"MUSD/yr\")[0]),\n",
    "    \"LCOE_val\": float(prob.get_val(\"financese.lcoe\", units=\"USD/MW/h\")[0]),\n",
    "    \"area_tight\": float(prob.get_val(\"landuse.area_tight\", units=\"km**2\")[0]),\n",
    "    \"coll_length\": float(prob.get_val(\"collection.total_length_cables\", units=\"km\")[0]),\n",
    "    \"turbine_spacing\": float(\n",
    "        np.min(prob.get_val(\"spacing_constraint.turbine_spacing\", units=\"km\"))\n",
    "    ),\n",
    "}\n",
    "\n",
    "print(\"\\n\\nRESULTS:\\n\")\n",
    "pp.pprint(test_data)\n",
    "print(\"\\n\\n\")"
   ]
  },
  {
   "cell_type": "markdown",
   "id": "78803b2d",
   "metadata": {},
   "source": [
    "Now, we can optimize!\n",
    "The optimization details are set under the `analysis_options` header in `inputs/ard_system.yaml`.\n",
    "As before, we use a four-dimensional rectilinear layout parameterization ($\\theta$) as design variables, and constrain the farm such that the turbines are in the boundaries and satisfactorily spaced.\n",
    "However, the derivatives of AEP with respect to layout variables are known to be non-smooth, and FLORIS doesn't provide analytical derivatives; to use finite differencing we would be adding noise on top of the noise, making useful gradients even harder to detect!\n",
    "`Ard` is designed to make overcoming this easier, and more about that is in the pipeline, but for now we will avoid the complexities of that discussion.\n",
    "Instead, we optimize to minimize the cable length here, while \n",
    "$$\n",
    "\\begin{aligned}\n",
    "\\textrm{minimize}_\\theta \\quad & \\mathrm{LCOE}(\\theta, \\ldots) \\\\\n",
    "\\textrm{subject to} \\quad & \\mathrm{AEP}(\\theta, \\ldots) > \\mathrm{AEP}_{\\min} \\\\\n",
    "                          & f_{\\mathrm{spacing}}(\\theta, \\ldots) < 0 \\\\\n",
    "                          & f_{\\mathrm{boundary}}(\\theta, \\ldots) < 0\n",
    "\\end{aligned}\n",
    "$$"
   ]
  },
  {
   "cell_type": "code",
   "execution_count": null,
   "id": "58397050",
   "metadata": {},
   "outputs": [
    {
     "name": "stdout",
     "output_type": "stream",
     "text": [
      "Driver debug print for iter coord: rank0:ScipyOptimize_SLSQP|0\n",
      "--------------------------------------------------------------\n",
      "Design Vars\n",
      "{'angle_orientation': array([0.]),\n",
      " 'angle_skew': array([0.]),\n",
      " 'spacing_primary': array([7.]),\n",
      " 'spacing_secondary': array([7.])}\n",
      "\n"
     ]
    },
    {
     "name": "stderr",
     "output_type": "stream",
     "text": [
      "RuntimeWarning: /Users/cfrontin/miniforge3/envs/ard-dev-env/lib/python3.12/site-packages/floris/core/wake_deflection/gauss.py:328\n",
      "invalid value encountered in divideRuntimeWarning: /Users/cfrontin/miniforge3/envs/ard-dev-env/lib/python3.12/site-packages/floris/core/wake_deflection/gauss.py:163\n",
      "invalid value encountered in divideRuntimeWarning: /Users/cfrontin/miniforge3/envs/ard-dev-env/lib/python3.12/site-packages/floris/core/wake_velocity/gauss.py:80\n",
      "invalid value encountered in divide"
     ]
    },
    {
     "name": "stdout",
     "output_type": "stream",
     "text": [
      "Objectives\n",
      "{'collection.total_length_cables': array([47761.10752126])}\n",
      "\n",
      "Driver debug print for iter coord: rank0:ScipyOptimize_SLSQP|1\n",
      "--------------------------------------------------------------\n",
      "Design Vars\n",
      "{'angle_orientation': array([0.]),\n",
      " 'angle_skew': array([0.]),\n",
      " 'spacing_primary': array([7.]),\n",
      " 'spacing_secondary': array([7.])}\n",
      "\n"
     ]
    },
    {
     "name": "stderr",
     "output_type": "stream",
     "text": [
      "RuntimeWarning: /Users/cfrontin/miniforge3/envs/ard-dev-env/lib/python3.12/site-packages/floris/core/wake_deflection/gauss.py:328\n",
      "invalid value encountered in divideRuntimeWarning: /Users/cfrontin/miniforge3/envs/ard-dev-env/lib/python3.12/site-packages/floris/core/wake_deflection/gauss.py:163\n",
      "invalid value encountered in divideRuntimeWarning: /Users/cfrontin/miniforge3/envs/ard-dev-env/lib/python3.12/site-packages/floris/core/wake_velocity/gauss.py:80\n",
      "invalid value encountered in divide"
     ]
    },
    {
     "name": "stdout",
     "output_type": "stream",
     "text": [
      "Objectives\n",
      "{'collection.total_length_cables': array([47761.10752126])}\n",
      "\n"
     ]
    },
    {
     "name": "stderr",
     "output_type": "stream",
     "text": [
      "RuntimeWarning: /Users/cfrontin/miniforge3/envs/ard-dev-env/lib/python3.12/site-packages/floris/core/wake_deflection/gauss.py:498\n",
      "invalid value encountered in divide"
     ]
    },
    {
     "name": "stdout",
     "output_type": "stream",
     "text": [
      "Driver debug print for iter coord: rank0:ScipyOptimize_SLSQP|2\n",
      "--------------------------------------------------------------\n",
      "Design Vars\n",
      "{'angle_orientation': array([-0.001023]),\n",
      " 'angle_skew': array([-0.00180114]),\n",
      " 'spacing_primary': array([6.95385903]),\n",
      " 'spacing_secondary': array([6.96095497])}\n",
      "\n",
      "Objectives\n",
      "{'collection.total_length_cables': array([47468.82258446])}\n",
      "\n",
      "Driver debug print for iter coord: rank0:ScipyOptimize_SLSQP|3\n",
      "--------------------------------------------------------------\n",
      "Design Vars\n",
      "{'angle_orientation': array([-0.01294036]),\n",
      " 'angle_skew': array([-0.01076827]),\n",
      " 'spacing_primary': array([6.72315013]),\n",
      " 'spacing_secondary': array([6.76572615])}\n",
      "\n",
      "Objectives\n",
      "{'collection.total_length_cables': array([46007.37034942])}\n",
      "\n",
      "Driver debug print for iter coord: rank0:ScipyOptimize_SLSQP|4\n",
      "--------------------------------------------------------------\n",
      "Design Vars\n",
      "{'angle_orientation': array([-0.07237704]),\n",
      " 'angle_skew': array([-0.05906184]),\n",
      " 'spacing_primary': array([5.56961525]),\n",
      " 'spacing_secondary': array([5.78958899])}\n",
      "\n",
      "Objectives\n",
      "{'collection.total_length_cables': array([38700.47433567])}\n",
      "\n",
      "Driver debug print for iter coord: rank0:ScipyOptimize_SLSQP|5\n",
      "--------------------------------------------------------------\n",
      "Design Vars\n",
      "{'angle_orientation': array([-0.19957183]),\n",
      " 'angle_skew': array([-0.16358824]),\n",
      " 'spacing_primary': array([3.00018829]),\n",
      " 'spacing_secondary': array([3.57836429])}\n",
      "\n",
      "Objectives\n",
      "{'collection.total_length_cables': array([21492.73960076])}\n",
      "\n",
      "Driver debug print for iter coord: rank0:ScipyOptimize_SLSQP|6\n",
      "--------------------------------------------------------------\n",
      "Design Vars\n",
      "{'angle_orientation': array([-0.19957183]),\n",
      " 'angle_skew': array([-0.16358825]),\n",
      " 'spacing_primary': array([3.]),\n",
      " 'spacing_secondary': array([3.54266927])}\n",
      "\n",
      "Objectives\n",
      "{'collection.total_length_cables': array([21431.05302072])}\n",
      "\n",
      "Driver debug print for iter coord: rank0:ScipyOptimize_SLSQP|7\n",
      "--------------------------------------------------------------\n",
      "Design Vars\n",
      "{'angle_orientation': array([-0.19066606]),\n",
      " 'angle_skew': array([-0.16267477]),\n",
      " 'spacing_primary': array([3.00000553]),\n",
      " 'spacing_secondary': array([3.36495284])}\n",
      "\n",
      "Objectives\n",
      "{'collection.total_length_cables': array([21128.76760916])}\n",
      "\n",
      "Driver debug print for iter coord: rank0:ScipyOptimize_SLSQP|8\n",
      "--------------------------------------------------------------\n",
      "Design Vars\n",
      "{'angle_orientation': array([-0.17219214]),\n",
      " 'angle_skew': array([-0.15177619]),\n",
      " 'spacing_primary': array([3.00001855]),\n",
      " 'spacing_secondary': array([3.])}\n",
      "\n",
      "Objectives\n",
      "{'collection.total_length_cables': array([20508.21747482])}\n",
      "\n",
      "Driver debug print for iter coord: rank0:ScipyOptimize_SLSQP|9\n",
      "--------------------------------------------------------------\n",
      "Design Vars\n",
      "{'angle_orientation': array([-0.17215351]),\n",
      " 'angle_skew': array([-0.15179557]),\n",
      " 'spacing_primary': array([3.00000001]),\n",
      " 'spacing_secondary': array([3.])}\n",
      "\n",
      "Objectives\n",
      "{'collection.total_length_cables': array([20508.1227013])}\n",
      "\n",
      "Driver debug print for iter coord: rank0:ScipyOptimize_SLSQP|10\n",
      "---------------------------------------------------------------\n",
      "Design Vars\n",
      "{'angle_orientation': array([-0.17215348]),\n",
      " 'angle_skew': array([-0.15179561]),\n",
      " 'spacing_primary': array([3.]),\n",
      " 'spacing_secondary': array([3.])}\n",
      "\n",
      "Objectives\n",
      "{'collection.total_length_cables': array([20508.12264852])}\n",
      "\n",
      "Iteration limit reached    (Exit mode 9)\n",
      "            Current function value: 1.025406132426226\n",
      "            Iterations: 10\n",
      "            Function evaluations: 10\n",
      "            Gradient evaluations: 10\n",
      "Optimization FAILED.\n",
      "Iteration limit reached\n",
      "-----------------------------------\n",
      "\n",
      "\n",
      "RESULTS (opt):\n",
      "\n",
      "{'AEP_val': 2070.8153157802635,\n",
      " 'BOS_val': 1250.5549973623238,\n",
      " 'CapEx_val': 768.4437570425,\n",
      " 'LCOE_val': 102.33887346951097,\n",
      " 'OpEx_val': 60.50000000000001,\n",
      " 'area_tight': 11.614464,\n",
      " 'coll_length': 20.50812264852452,\n",
      " 'turbine_spacing': 0.8519999999999999}\n",
      "\n",
      "\n",
      "\n"
     ]
    },
    {
     "data": {
      "image/png": "[encoded data removed]",
      "text/plain": [
       "<Figure size 800x600 with 1 Axes>"
      ]
     },
     "metadata": {},
     "output_type": "display_data"
    }
   ],
   "source": [
    "optimize = True  # set to False to skip optimization\n",
    "if optimize:\n",
    "    # run the optimization\n",
    "    prob.run_driver()\n",
    "    prob.cleanup()\n",
    "\n",
    "    # collapse the test result data\n",
    "    test_data = {\n",
    "        \"AEP_val\": float(prob.get_val(\"AEP_farm\", units=\"GW*h\")[0]),\n",
    "        \"CapEx_val\": float(prob.get_val(\"tcc.tcc\", units=\"MUSD\")[0]),\n",
    "        \"BOS_val\": float(prob.get_val(\"orbit.total_capex\", units=\"MUSD\")[0]),\n",
    "        \"OpEx_val\": float(prob.get_val(\"opex.opex\", units=\"MUSD/yr\")[0]),\n",
    "        \"LCOE_val\": float(prob.get_val(\"financese.lcoe\", units=\"USD/MW/h\")[0]),\n",
    "        \"area_tight\": float(prob.get_val(\"landuse.area_tight\", units=\"km**2\")[0]),\n",
    "        \"coll_length\": float(\n",
    "            prob.get_val(\"collection.total_length_cables\", units=\"km\")[0]\n",
    "        ),\n",
    "        \"turbine_spacing\": float(\n",
    "            np.min(prob.get_val(\"spacing_constraint.turbine_spacing\", units=\"km\"))\n",
    "        ),\n",
    "    }\n",
    "\n",
    "    # clean up the recorder\n",
    "    prob.cleanup()\n",
    "\n",
    "    # print the results\n",
    "    print(\"\\n\\nRESULTS (opt):\\n\")\n",
    "    pp.pprint(test_data)\n",
    "    print(\"\\n\\n\")\n",
    "    # plot convergence\n",
    "    ## read cases\n",
    "    cr = om.CaseReader(\n",
    "        prob.get_outputs_dir() / input_dict[\"analysis_options\"][\"recorder\"][\"filepath\"]\n",
    "    )\n",
    "\n",
    "    # Extract the driver cases\n",
    "    cases = cr.get_cases(\"driver\")\n",
    "\n",
    "    # Initialize lists to store iteration data\n",
    "    iterations = []\n",
    "    objective_values = []\n",
    "\n",
    "    # Loop through the cases and extract iteration number and objective value\n",
    "    for i, case in enumerate(cases):\n",
    "        iterations.append(i)\n",
    "\n",
    "    # Plot the convergence\n",
    "    plt.figure(figsize=(8, 6))\n",
    "    plt.plot(iterations, objective_values, marker=\"o\", label=\"Objective (LCOE)\")\n",
    "    plt.xlabel(\"Iteration\")\n",
    "    plt.ylabel(\"Objective Value (Total Cable Length (m))\")\n",
    "    plt.title(\"Convergence Plot\")\n",
    "    plt.legend()\n",
    "    plt.grid()\n",
    "    plt.show()"
   ]
  },
  {
   "cell_type": "code",
   "execution_count": 6,
   "id": "55f0f73c",
   "metadata": {},
   "outputs": [
    {
     "data": {
      "image/png": "[encoded data removed]",
      "text/plain": [
       "<Figure size 640x480 with 1 Axes>"
      ]
     },
     "metadata": {},
     "output_type": "display_data"
    }
   ],
   "source": [
    "plot_layout(\n",
    "    prob,\n",
    "    input_dict=input_dict,\n",
    "    show_image=True,\n",
    "    include_cable_routing=True,\n",
    ")\n",
    "plt.show()"
   ]
  },
  {
   "cell_type": "code",
   "execution_count": null,
   "id": "00f0a29b",
   "metadata": {},
   "outputs": [],
   "source": []
  }
 ],
 "metadata": {
  "kernelspec": {
   "display_name": "ard-dev-env",
   "language": "python",
   "name": "python3"
  },
  "language_info": {
   "codemirror_mode": {
    "name": "ipython",
    "version": 3
   },
   "file_extension": ".py",
   "mimetype": "text/x-python",
   "name": "python",
   "nbconvert_exporter": "python",
   "pygments_lexer": "ipython3",
   "version": "3.12.11"
  }
 },
 "nbformat": 4,
 "nbformat_minor": 5
}
